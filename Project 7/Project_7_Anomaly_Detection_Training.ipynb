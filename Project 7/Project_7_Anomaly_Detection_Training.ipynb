{
  "nbformat": 4,
  "nbformat_minor": 0,
  "metadata": {
    "colab": {
      "provenance": []
    },
    "kernelspec": {
      "name": "python3",
      "display_name": "Python 3"
    },
    "language_info": {
      "name": "python"
    }
  },
  "cells": [
    {
      "cell_type": "markdown",
      "source": [
        "# **Training Notebook**"
      ],
      "metadata": {
        "id": "vcuThOzIaJVI"
      }
    },
    {
      "cell_type": "code",
      "source": [
        "import pandas as pd\n",
        "from sklearn.model_selection import train_test_split\n",
        "from sklearn.preprocessing import StandardScaler\n",
        "from sklearn.ensemble import IsolationForest\n",
        "import joblib\n",
        "import os\n",
        "\n",
        "# Load data\n",
        "data_path = 'ec2_network_in_257a54.csv'\n",
        "\n",
        "try:\n",
        "    df = pd.read_csv(data_path, nrows=10000)\n",
        "except FileNotFoundError:\n",
        "    print(f\"Error: The file '{data_path}' was not found.\")\n",
        "    exit()\n",
        "\n",
        "# Rename columns\n",
        "df.rename(columns={'value': 'network_in', 'timestamp': 'Timestamp'}, inplace=True)\n",
        "\n",
        "# Convert Timestamp and set as index\n",
        "df['Timestamp'] = pd.to_datetime(df['Timestamp'])\n",
        "df.set_index('Timestamp', inplace=True)\n",
        "\n",
        "# Handle missing values\n",
        "df = df.fillna(df['network_in'].mean())\n",
        "\n",
        "# Feature Engineering: Scaling\n",
        "scaler = StandardScaler()\n",
        "df['network_in_scaled'] = scaler.fit_transform(df[['network_in']])\n",
        "\n",
        "# Split Data (Use ONLY the scaled feature)\n",
        "X = df[['network_in_scaled']]  # Only use the scaled feature\n",
        "y = df['network_in']\n",
        "\n",
        "X_train, X_test, y_train, y_test = train_test_split(X, y, test_size=0.2, shuffle=False)\n",
        "\n",
        "# Train the Isolation Forest Model\n",
        "model = IsolationForest(n_estimators=100, contamination='auto', random_state=42)\n",
        "model.fit(X_train)\n",
        "\n",
        "# Save the model and the scaler\n",
        "model_filename = 'isolation_forest_model.joblib'\n",
        "scaler_filename = 'scaler.joblib'\n",
        "\n",
        "joblib.dump(model, model_filename)\n",
        "joblib.dump(scaler, scaler_filename)  # Save scaler with the name scaler.joblib\n",
        "\n",
        "print(f\"Model saved to: {model_filename}\")\n",
        "print(f\"Scaler saved to: {scaler_filename}\")"
      ],
      "metadata": {
        "colab": {
          "base_uri": "https://localhost:8080/"
        },
        "id": "XzTvIVmClVyF",
        "outputId": "b3c8ff06-449f-4de9-cedd-5ce6d5369d63"
      },
      "execution_count": 1,
      "outputs": [
        {
          "output_type": "stream",
          "name": "stdout",
          "text": [
            "Model saved to: isolation_forest_model.joblib\n",
            "Scaler saved to: scaler.joblib\n"
          ]
        }
      ]
    }
  ]
}